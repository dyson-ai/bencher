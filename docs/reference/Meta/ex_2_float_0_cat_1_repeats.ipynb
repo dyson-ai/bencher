{
 "cells": [
  {
   "cell_type": "markdown",
   "id": "31e81475",
   "metadata": {},
   "source": [
    "# 2_float_0_cat_1_repeats"
   ]
  },
  {
   "cell_type": "code",
   "execution_count": null,
   "id": "b2ab95f5",
   "metadata": {},
   "outputs": [],
   "source": [
    "%%capture\n",
    "import bencher as bch\n",
    "from bencher.example.meta.example_meta import BenchableObject\n",
    "\n",
    "run_cfg = bch.BenchRunCfg()\n",
    "run_cfg.repeats = 1\n",
    "run_cfg.level = 4\n",
    "run_cfg.over_time = False\n",
    "bench = BenchableObject().to_bench(run_cfg)\n",
    "res = bench.plot_sweep(input_vars=[\"float1\", \"float2\"], result_vars=[\"distance\", \"sample_noise\"])"
   ]
  },
  {
   "cell_type": "code",
   "execution_count": null,
   "id": "cd0c509c",
   "metadata": {},
   "outputs": [],
   "source": [
    "from bokeh.io import output_notebook\n",
    "\n",
    "output_notebook()\n",
    "res.to_auto_plots()"
   ]
  }
 ],
 "metadata": {},
 "nbformat": 4,
 "nbformat_minor": 5
}
