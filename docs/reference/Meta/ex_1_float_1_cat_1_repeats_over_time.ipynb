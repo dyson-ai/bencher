{
 "cells": [
  {
   "cell_type": "markdown",
   "id": "f34571f0",
   "metadata": {},
   "source": [
    "# 1_float_1_cat_1_repeats_over_time"
   ]
  },
  {
   "cell_type": "code",
   "execution_count": null,
   "id": "f413b228",
   "metadata": {},
   "outputs": [],
   "source": [
    "%%capture\n",
    "import bencher as bch\n",
    "from bencher.example.meta.example_meta import BenchableObject\n",
    "\n",
    "run_cfg = bch.BenchRunCfg()\n",
    "run_cfg.repeats = 1\n",
    "run_cfg.level = 4\n",
    "run_cfg.over_time = True\n",
    "bench = BenchableObject().to_bench(run_cfg)\n",
    "res = bench.plot_sweep(input_vars=[\"float1\", \"noisy\"], result_vars=[\"distance\", \"sample_noise\"])"
   ]
  },
  {
   "cell_type": "code",
   "execution_count": null,
   "id": "02e28df2",
   "metadata": {},
   "outputs": [],
   "source": [
    "from bokeh.io import output_notebook\n",
    "\n",
    "output_notebook()\n",
    "res.to_auto_plots()"
   ]
  }
 ],
 "metadata": {},
 "nbformat": 4,
 "nbformat_minor": 5
}
