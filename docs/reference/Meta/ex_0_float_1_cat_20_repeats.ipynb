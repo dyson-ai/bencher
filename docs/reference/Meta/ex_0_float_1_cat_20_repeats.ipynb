{
 "cells": [
  {
   "cell_type": "markdown",
   "id": "cf7ffb93",
   "metadata": {},
   "source": [
    "# 0_float_1_cat_20_repeats"
   ]
  },
  {
   "cell_type": "code",
   "execution_count": null,
   "id": "224673a1",
   "metadata": {},
   "outputs": [],
   "source": [
    "%%capture\n",
    "import bencher as bch\n",
    "from bencher.example.meta.example_meta import BenchableObject\n",
    "\n",
    "run_cfg = bch.BenchRunCfg()\n",
    "run_cfg.repeats = 20\n",
    "run_cfg.level = 4\n",
    "run_cfg.over_time = False\n",
    "bench = BenchableObject().to_bench(run_cfg)\n",
    "res = bench.plot_sweep(input_vars=[\"noisy\"], result_vars=[\"distance\", \"sample_noise\"])"
   ]
  },
  {
   "cell_type": "code",
   "execution_count": null,
   "id": "b1cf8f8a",
   "metadata": {},
   "outputs": [],
   "source": [
    "from bokeh.io import output_notebook\n",
    "\n",
    "output_notebook()\n",
    "res.to_auto_plots()"
   ]
  }
 ],
 "metadata": {},
 "nbformat": 4,
 "nbformat_minor": 5
}
